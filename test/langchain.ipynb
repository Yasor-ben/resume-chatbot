{
 "cells": [
  {
   "cell_type": "code",
   "execution_count": 4,
   "metadata": {},
   "outputs": [],
   "source": [
    "import os\n",
    "from langchain_openai import ChatOpenAI \n",
    "from langchain_core.prompts import PromptTemplate\n",
    "\n",
    "# pour du streaming\n",
    "from langchain_core.output_parsers import StrOutputParser"
   ]
  },
  {
   "cell_type": "code",
   "execution_count": 5,
   "metadata": {},
   "outputs": [],
   "source": [
    "prompt_template = \"\"\"traduit le message en normand puis en anglais et répond :  {message}\"\"\"\n",
    "prompt = PromptTemplate(template = prompt_template, input_variables=[\"message\"])\n",
    "\n",
    "llm = ChatOpenAI(\n",
    "    api_key= os.environ[\"OPENAI_API_KEY\"],\n",
    "    model=os.environ[\"MODEL_ID\"],\n",
    "    temperature=0.2,\n",
    "       \n",
    "    \n",
    ")\n",
    "\n",
    "chain = prompt | llm | StrOutputParser()"
   ]
  },
  {
   "cell_type": "code",
   "execution_count": 6,
   "metadata": {},
   "outputs": [
    {
     "data": {
      "text/plain": [
       "\"En normand : Salut gars, coum' ça va ?\\n\\nEn anglais : Hi dude, how's it going?\\n\\nMa réponse : Salut ! Ça va bien, merci. Et toi, comment ça se passe de ton côté ?\""
      ]
     },
     "execution_count": 6,
     "metadata": {},
     "output_type": "execute_result"
    }
   ],
   "source": [
    "chain.invoke(\"salut mec, ça se passes ?\")"
   ]
  },
  {
   "cell_type": "code",
   "execution_count": null,
   "metadata": {},
   "outputs": [],
   "source": []
  }
 ],
 "metadata": {
  "kernelspec": {
   "display_name": "chatbot",
   "language": "python",
   "name": "python3"
  },
  "language_info": {
   "codemirror_mode": {
    "name": "ipython",
    "version": 3
   },
   "file_extension": ".py",
   "mimetype": "text/x-python",
   "name": "python",
   "nbconvert_exporter": "python",
   "pygments_lexer": "ipython3",
   "version": "3.10.17"
  }
 },
 "nbformat": 4,
 "nbformat_minor": 2
}
